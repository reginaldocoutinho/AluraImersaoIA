{
  "nbformat": 4,
  "nbformat_minor": 0,
  "metadata": {
    "colab": {
      "provenance": [],
      "authorship_tag": "ABX9TyNeE90Im59qBIfCRFRG3CtN",
      "include_colab_link": true
    },
    "kernelspec": {
      "name": "python3",
      "display_name": "Python 3"
    },
    "language_info": {
      "name": "python"
    }
  },
  "cells": [
    {
      "cell_type": "markdown",
      "metadata": {
        "id": "view-in-github",
        "colab_type": "text"
      },
      "source": [
        "<a href=\"https://colab.research.google.com/github/reginaldocoutinho/aluraImersaoIA/blob/main/ChatBot.ipynb\" target=\"_parent\"><img src=\"https://colab.research.google.com/assets/colab-badge.svg\" alt=\"Open In Colab\"/></a>"
      ]
    },
    {
      "cell_type": "code",
      "execution_count": null,
      "metadata": {
        "id": "JlaDqtGp54dH"
      },
      "outputs": [],
      "source": [
        "!pip install -q -U google-generativeai # instalando a biblioteca  go generativeai"
      ]
    },
    {
      "cell_type": "code",
      "source": [
        "# Import the Python SDK\n",
        "import google.generativeai as genai #Importando a biblieoteca do gerativeai\n",
        "from google.colab import userdata\n",
        "api_key = userdata.get('SECRETY_KEY')\n",
        "\n",
        "GOOGLE_API_KEY=(api_key)#variavel com a API KEY\n",
        "genai.configure(api_key=GOOGLE_API_KEY) #Configuração da chave"
      ],
      "metadata": {
        "id": "3NT2w7Bu6G6Z"
      },
      "execution_count": null,
      "outputs": []
    },
    {
      "cell_type": "markdown",
      "source": [
        "Listar os modelos disponíves"
      ],
      "metadata": {
        "id": "dVnKgvJj63-Z"
      }
    },
    {
      "cell_type": "code",
      "source": [
        "for m in genai.list_models():\n",
        "  if 'generateContent' in m.supported_generation_methods:\n",
        "    print(m.name)"
      ],
      "metadata": {
        "colab": {
          "base_uri": "https://localhost:8080/",
          "height": 139
        },
        "id": "Gp3RcF4X673a",
        "outputId": "e4493ea7-f66b-4c2c-d22d-77426e020d22"
      },
      "execution_count": null,
      "outputs": [
        {
          "output_type": "stream",
          "name": "stdout",
          "text": [
            "models/gemini-1.0-pro\n",
            "models/gemini-1.0-pro-001\n",
            "models/gemini-1.0-pro-latest\n",
            "models/gemini-1.0-pro-vision-latest\n",
            "models/gemini-1.5-pro-latest\n",
            "models/gemini-pro\n",
            "models/gemini-pro-vision\n"
          ]
        }
      ]
    },
    {
      "cell_type": "code",
      "source": [
        "#Configurações de fidelidade e quantidade de variações nas respostas(Mais criativo menos acertivo)\n",
        "generation_config = {\n",
        "  \"candidate_count\":1,\n",
        "  \"temperature\":0.5\n",
        "}"
      ],
      "metadata": {
        "id": "QYeaqiCNAKfm"
      },
      "execution_count": null,
      "outputs": []
    },
    {
      "cell_type": "code",
      "source": [
        "#Configurações de segurança, filtro de respostas\n",
        "safety_settings = {\n",
        "    \"HARASSMENT\": \"BLOCK_NONE\",\n",
        "    \"HATE\": \"BLOCK_NONE\",\n",
        "    \"SEXUAL\":\"BLOCK_NONE\",\n",
        "    \"DANGEROUS\": \"BLOCK_NONE\"\n",
        "}"
      ],
      "metadata": {
        "id": "yslHgxz4Ahuh"
      },
      "execution_count": null,
      "outputs": []
    },
    {
      "cell_type": "markdown",
      "source": [
        "Inicializando o modelo"
      ],
      "metadata": {
        "id": "kXxvKtGsBfoE"
      }
    },
    {
      "cell_type": "code",
      "source": [],
      "metadata": {
        "id": "tH_tJIsUB1YN"
      },
      "execution_count": null,
      "outputs": []
    },
    {
      "cell_type": "code",
      "source": [
        "model = genai.GenerativeModel(model_name='gemini-1.0-pro',\n",
        "                             generation_config=generation_config,\n",
        "                             safety_settings=safety_settings)\n"
      ],
      "metadata": {
        "id": "HObzVPiFBhuJ"
      },
      "execution_count": null,
      "outputs": []
    },
    {
      "cell_type": "code",
      "source": [
        "response = model.generate_content(\"Vamos aprender conteúdo de IA. Me dê sugestões.\")\n",
        "print(response.text)"
      ],
      "metadata": {
        "colab": {
          "base_uri": "https://localhost:8080/",
          "height": 732
        },
        "id": "g-2HkolVCqPX",
        "outputId": "1e550213-f8bf-4992-a5d5-2405fe23bf37"
      },
      "execution_count": null,
      "outputs": [
        {
          "output_type": "stream",
          "name": "stdout",
          "text": [
            "**Fundamentos de IA**\n",
            "\n",
            "* O que é Inteligência Artificial (IA)?\n",
            "* História e evolução da IA\n",
            "* Tipos de IA (IA fraca, IA forte, IA geral)\n",
            "* Algoritmos de aprendizado de máquina (aprendizado supervisionado, não supervisionado, por reforço)\n",
            "\n",
            "**Técnicas de Aprendizado de Máquina**\n",
            "\n",
            "* Regressão linear e logística\n",
            "* Árvores de decisão e florestas aleatórias\n",
            "* Redes neurais (perceptrons, redes neurais convolucionais, redes neurais recorrentes)\n",
            "* Máquinas de vetores de suporte (SVMs)\n",
            "\n",
            "**Aplicações de IA**\n",
            "\n",
            "* Reconhecimento de imagem e visão computacional\n",
            "* Processamento de linguagem natural (PNL)\n",
            "* Veículos autônomos\n",
            "* Diagnóstico médico\n",
            "* Finanças e previsão\n",
            "\n",
            "**Ética e Implicações Sociais da IA**\n",
            "\n",
            "* Preocupações éticas sobre IA (viés, privacidade, desemprego)\n",
            "* Implicações sociais da IA (automação, desigualdade)\n",
            "* Regulamentos e políticas de IA\n",
            "\n",
            "**Ferramentas e Bibliotecas**\n",
            "\n",
            "* Linguagens de programação para IA (Python, R)\n",
            "* Bibliotecas de aprendizado de máquina (TensorFlow, PyTorch, Scikit-learn)\n",
            "* Ferramentas de visualização de dados (Tableau, Power BI)\n",
            "\n",
            "**Recursos Adicionais**\n",
            "\n",
            "* Cursos online (Coursera, edX, Udemy)\n",
            "* Livros (Aprendizado de Máquina Prático, Inteligência Artificial: Um Guia Moderno)\n",
            "* Revistas e conferências (Nature Machine Intelligence, NeurIPS)\n",
            "* Comunidades online (Kaggle, Reddit)\n"
          ]
        }
      ]
    },
    {
      "cell_type": "code",
      "source": [
        "chat = model.start_chat(history=[])"
      ],
      "metadata": {
        "id": "pVpUAmVjDJrf"
      },
      "execution_count": null,
      "outputs": []
    },
    {
      "cell_type": "code",
      "source": [
        "prompt = input(\"Esperando prompt:\")\n",
        "\n",
        "while prompt != \"fim\":\n",
        "  response = chat.send_message(prompt)\n",
        "  print(\"Resposta: \", response.text, \"\\n\")\n",
        "  prompt = input(\"Esperando prompt:\")"
      ],
      "metadata": {
        "colab": {
          "base_uri": "https://localhost:8080/",
          "height": 243
        },
        "id": "krmOU7GoDmYk",
        "outputId": "601a92d6-d966-42b6-97a9-3e5a8e732948"
      },
      "execution_count": null,
      "outputs": [
        {
          "name": "stdout",
          "output_type": "stream",
          "text": [
            "Esperando prompt:Qual a capital do japão?\n",
            "Resposta:  Tóquio \n",
            "\n",
            "Esperando prompt:Qual é a comida típica desse país?\n",
            "Resposta:  Sushi \n",
            "\n",
            "Esperando prompt:O meu primo nasceu nesta cidade. Qual a nacionalidade dele?\n",
            "Resposta:  Japonesa \n",
            "\n",
            "Esperando prompt:Qual a população dessa cidade?\n",
            "Resposta:  37.339.804 (2023) \n",
            "\n",
            "Esperando prompt:fim\n"
          ]
        }
      ]
    },
    {
      "cell_type": "markdown",
      "source": [],
      "metadata": {
        "id": "NSrftF-sGHrB"
      }
    },
    {
      "cell_type": "code",
      "source": [
        "chat"
      ],
      "metadata": {
        "id": "vEGw4U0aD1mx",
        "colab": {
          "base_uri": "https://localhost:8080/"
        },
        "outputId": "cfdbea2e-beba-4f19-9efb-dc843476c899"
      },
      "execution_count": 20,
      "outputs": [
        {
          "output_type": "execute_result",
          "data": {
            "text/plain": [
              "ChatSession(\n",
              "    model=genai.GenerativeModel(\n",
              "        model_name='models/gemini-1.0-pro',\n",
              "        generation_config={'candidate_count': 1, 'temperature': 0.5},\n",
              "        safety_settings={<HarmCategory.HARM_CATEGORY_HARASSMENT: 7>: <HarmBlockThreshold.BLOCK_NONE: 4>, <HarmCategory.HARM_CATEGORY_HATE_SPEECH: 8>: <HarmBlockThreshold.BLOCK_NONE: 4>, <HarmCategory.HARM_CATEGORY_SEXUALLY_EXPLICIT: 9>: <HarmBlockThreshold.BLOCK_NONE: 4>, <HarmCategory.HARM_CATEGORY_DANGEROUS_CONTENT: 10>: <HarmBlockThreshold.BLOCK_NONE: 4>},\n",
              "        tools=None,\n",
              "        system_instruction=None,\n",
              "    ),\n",
              "    history=[glm.Content({'parts': [{'text': 'Qual a capital do japäo?'}], 'role': 'user'}), glm.Content({'parts': [{'text': 'Tóquio'}], 'role': 'model'}), glm.Content({'parts': [{'text': 'Qual a capital do japão?'}], 'role': 'user'}), glm.Content({'parts': [{'text': 'Tóquio'}], 'role': 'model'}), glm.Content({'parts': [{'text': 'Qual é a com...a desse país?'}], 'role': 'user'}), glm.Content({'parts': [{'text': 'Sushi'}], 'role': 'model'}), glm.Content({'parts': [{'text': 'O meu primo ...alidade dele?'}], 'role': 'user'}), glm.Content({'parts': [{'text': 'Japonesa'}], 'role': 'model'}), glm.Content({'parts': [{'text': 'Qual a popul...dessa cidade?'}], 'role': 'user'}), glm.Content({'parts': [{'text': '37.339.804 (2023)'}], 'role': 'model'})]\n",
              ")"
            ]
          },
          "metadata": {},
          "execution_count": 20
        }
      ]
    },
    {
      "cell_type": "code",
      "source": [
        "# Melhorando a visualização\n",
        "# Código disponível em https://ai.google.dev/tutorials/python_quickstart#import_packages\n",
        "\n",
        "import textwrap\n",
        "from IPython.display import display\n",
        "from IPython.display import Markdown\n",
        "\n",
        "\n",
        "def to_markdown(text):\n",
        "  text = text.replace('•', '  *')\n",
        "  return Markdown(textwrap.indent(text, '> ', predicate=lambda _: True))\n",
        "  print('----------------------------')\n",
        "\n",
        "#Imprimindo o histórico\n",
        "for message in chat.history:\n",
        "  display(to_markdown(f'**{message.role}**: {message.parts[0].text}'))\n"
      ],
      "metadata": {
        "colab": {
          "base_uri": "https://localhost:8080/",
          "height": 344
        },
        "id": "CSWyibhcJl66",
        "outputId": "53dbb1c6-11b4-492f-d7fa-4fa28b217757"
      },
      "execution_count": 23,
      "outputs": [
        {
          "output_type": "display_data",
          "data": {
            "text/plain": [
              "<IPython.core.display.Markdown object>"
            ],
            "text/markdown": "> **user**: Qual a capital do japäo?"
          },
          "metadata": {}
        },
        {
          "output_type": "display_data",
          "data": {
            "text/plain": [
              "<IPython.core.display.Markdown object>"
            ],
            "text/markdown": "> **model**: Tóquio"
          },
          "metadata": {}
        },
        {
          "output_type": "display_data",
          "data": {
            "text/plain": [
              "<IPython.core.display.Markdown object>"
            ],
            "text/markdown": "> **user**: Qual a capital do japão?"
          },
          "metadata": {}
        },
        {
          "output_type": "display_data",
          "data": {
            "text/plain": [
              "<IPython.core.display.Markdown object>"
            ],
            "text/markdown": "> **model**: Tóquio"
          },
          "metadata": {}
        },
        {
          "output_type": "display_data",
          "data": {
            "text/plain": [
              "<IPython.core.display.Markdown object>"
            ],
            "text/markdown": "> **user**: Qual é a comida típica desse país?"
          },
          "metadata": {}
        },
        {
          "output_type": "display_data",
          "data": {
            "text/plain": [
              "<IPython.core.display.Markdown object>"
            ],
            "text/markdown": "> **model**: Sushi"
          },
          "metadata": {}
        },
        {
          "output_type": "display_data",
          "data": {
            "text/plain": [
              "<IPython.core.display.Markdown object>"
            ],
            "text/markdown": "> **user**: O meu primo nasceu nesta cidade. Qual a nacionalidade dele?"
          },
          "metadata": {}
        },
        {
          "output_type": "display_data",
          "data": {
            "text/plain": [
              "<IPython.core.display.Markdown object>"
            ],
            "text/markdown": "> **model**: Japonesa"
          },
          "metadata": {}
        },
        {
          "output_type": "display_data",
          "data": {
            "text/plain": [
              "<IPython.core.display.Markdown object>"
            ],
            "text/markdown": "> **user**: Qual a população dessa cidade?"
          },
          "metadata": {}
        },
        {
          "output_type": "display_data",
          "data": {
            "text/plain": [
              "<IPython.core.display.Markdown object>"
            ],
            "text/markdown": "> **model**: 37.339.804 (2023)"
          },
          "metadata": {}
        }
      ]
    }
  ]
}
